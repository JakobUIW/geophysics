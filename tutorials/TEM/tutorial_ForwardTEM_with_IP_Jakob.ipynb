{
 "cells": [
  {
   "cell_type": "markdown",
   "metadata": {},
   "source": [
    "# ForwardTEM with IP effects\n",
    "\n",
    "This tutorial expands on the first one (`tutorial_ForwardTEM.ipynb`), so please read it for more details on the basics.\n",
    "\n",
    "The same class is used but with different settings to consider IP effects.\n",
    "\n",
    "### Attention\n",
    "The `tracking` (multiple plots in the same figure) only works between the same type of model.\n",
    "More on this later.\n",
    "\n",
    "## Setup\n",
    "Stays the same as before:"
   ]
  },
  {
   "cell_type": "code",
   "execution_count": null,
   "metadata": {},
   "outputs": [],
   "source": [
    "import numpy as np\n",
    "from gp_tools.tem import ForwardTEM\n",
    "forward_solver = ForwardTEM()"
   ]
  },
  {
   "cell_type": "markdown",
   "metadata": {},
   "source": [
    "## Settings\n",
    "The settings stay mostly the same. Only in **Modelling settings** a new parameter is added.\n",
    "\n",
    "### Device settings\n",
    "The `TEM-FAST` device has different settings for the measurements which are also considered for the modelling:\n",
    "- Timekey (`timekey`): integer,  \n",
    "A number from 1 to 9 which determines the number of timegates used. The default is 9.\n",
    "- Selected current (`currentkey`): integer,  \n",
    "If the device should inject 1 or 4 A of current. The default is 1.\n",
    "- Loopsize (`loop`): float,  \n",
    "The side lenght in Meters of the square loop. The default is 12.5.\n",
    "- Injected Current (`current_inj`): float,  \n",
    "If an measurment was performed, the current, which was actually injected by the device can be added here. This resorts to the theoretical injected current (`currentkey`) as the default.\n",
    "- Powerline filter (`filter_powerline`): integer,  \n",
    "If 50 or 60 Hz frequency should be filtered. The default is 50.\n",
    "\n",
    "### Modelling settings\n",
    "Settings which are relevant for the modelling:\n",
    "- Type of subsurface model (`model_type`): str\n",
    "Which type of (complex) resistivty model is used for the calculations.\n",
    "It is per default set to `None`, which expects a simple resistivity model (only thickness and resistivity).\n",
    "The different resistivity models can added easier with the corresponding `add_..._model()` methods.\n",
    "- The resistivity model (`model`): numpy.array() or list\n",
    "The model of the layered subsurface containing the thickness and resistivity of each layer.\n",
    "This can be added easier with the `add_..._model()` method.\n",
    "- An absolute error (`absolute_error`): float\n",
    "An absolute error used to simulate a random error. The default is 1e-28.\n",
    "- An relative error (`relative_error`): float\n",
    "A relative error used to simulate a random error. The default is 1e-6.\n",
    "\n",
    "### Plotting settings\n",
    "For the creation of the plots more things can be changed:\n",
    "- Add a title to the plot (`plot_title`): str\n",
    "Adds a super title to the whole figure.\n",
    "- Keep plotting on the same figure (`track`): boolean, \n",
    "When modelling different models, the results can be plotted on the same figure or a new figure is created for every model. The default is `False`. This means a new plot is created for each model.\n",
    "- Convert to Conductivity (`res2con`): boolean,  \n",
    "If the results should be plotted as resistivity or conductivity. The default is `False`. This means, that the resistivities are plotted.\n",
    "- Ax limits for time (`time_limits`): tuple of two numbers,  \n",
    "Gives an lower and upper limit for the time axis in the plots. The default is None (`matplotlib` chooses).\n",
    "- Ax limits for signal (`signal_limits`): tuple of two numbers,  \n",
    "Gives an lower and upper limit for the signal axis in the plots. The default is None (`matplotlib` chooses).\n",
    "- Ax limits for apparent resistivity/conductivity (`rhoa_limits`): tuple of two numbers,  \n",
    "Gives an lower and upper limit for the apparent resistivity/conductivity axis in the response plot. The default is None (`matplotlib` chooses).\n",
    "- Ax limits for model resistivity/conductivity (`rho_limits`): tuple of two numbers,  \n",
    "Gives an lower and upper limit for the resistivity/conductivity axis in the model plot. The default is None (`matplotlib` chooses).\n",
    "- Ax limits for model depth (`depth_limits`): tuple of two numbers,  \n",
    "Gives an lower and upper limit for the depth axis in the model plot. The default is None (`matplotlib` chooses).\n",
    "\n",
    "### Example\n",
    "Let's keep the setting from before:"
   ]
  },
  {
   "cell_type": "code",
   "execution_count": null,
   "metadata": {},
   "outputs": [],
   "source": [
    "# Set loop size in meters (side length of the square loop)\n",
    "forward_solver.loop = 15\n",
    "\n",
    "# Choose the current key: 1 or 4 (A)\n",
    "forward_solver.currentkey = 4\n",
    "\n",
    "# Choose time key: 1 - 9 (number of timegates)\n",
    "forward_solver.timekey = 7"
   ]
  },
  {
   "cell_type": "markdown",
   "metadata": {},
   "source": [
    "### Adding a model\n",
    "\n",
    "Currently there are 3 class-methods of adding a model:\n",
    "- `add_resistivity_model()`: The simple model without IP effects from before.\n",
    "- `add_pelton_model()`: The pelton model for complex resistivity.\n",
    "- `add_mpa_model()`: The max phase angle model for complex resistivity.\n",
    "Using these functions the `model_type` is automatically set to the correct type.\n",
    "\n",
    "Let's start with the max phase angle model which takes 5 parameters:"
   ]
  },
  {
   "cell_type": "code",
   "execution_count": null,
   "metadata": {},
   "outputs": [],
   "source": [
    "print(np.logspace(1e-6, 5e-4, 5))"
   ]
  },
  {
   "cell_type": "code",
   "execution_count": null,
   "metadata": {},
   "outputs": [],
   "source": [
    "forward_solver.track = False\n",
    "forward_solver.run('MPA')"
   ]
  },
  {
   "cell_type": "code",
   "execution_count": null,
   "metadata": {},
   "outputs": [],
   "source": [
    "# Thickness of each layer in meters\n",
    "thk = [40, 20, 30]\n",
    "\n",
    "# Direct current resistivity of each layer in Ohm meters\n",
    "rho_0 = [100, 500, 500]\n",
    "\n",
    "# Max phase angle of each layer in radians\n",
    "phi_max = [0, 0.4, 0]\n",
    "\n",
    "# Relaxation time of each layer in seconds\n",
    "tau_phi = [1e-6, 1e-5, 1e-6]\n",
    "\n",
    "# Dispersion coefficient of each layer\n",
    "c = [0.1, 0.4, 0.1]\n"
   ]
  },
  {
   "cell_type": "markdown",
   "metadata": {},
   "source": [
    "### Run the modeller\n",
    "Now you can finally run the forward modeller and create some plots.\n"
   ]
  },
  {
   "cell_type": "code",
   "execution_count": null,
   "metadata": {},
   "outputs": [],
   "source": [
    "forward_solver.clear_plot()\n",
    "forward_solver.track = True\n",
    "# Add the max phase angle model\n",
    "forward_solver.add_mpa_model(\n",
    "    thickness=thk, \n",
    "    resistivity=rho_0,\n",
    "    max_phase_angle=phi_max,\n",
    "    relaxation_time=tau_phi,\n",
    "    dispersion_coefficient=c)\n",
    "\n",
    "# Add a title to the plot\n",
    "forward_solver.plot_title = 'Modelling with IP effect'\n",
    "forward_solver.track = True\n",
    "# Run the forward modeller\n",
    "forward_solver.run('MPA')"
   ]
  },
  {
   "cell_type": "code",
   "execution_count": null,
   "metadata": {},
   "outputs": [],
   "source": [
    "\n",
    "for i in np.linspace(0, 0.8, 5):\n",
    "    for j in np.linspace(0, 0.8, 5):\n",
    "        forward_solver.clear_plot()\n",
    "        for k in np.linspace(0, 0.8, 5):\n",
    "            phi_max = [i, j, k]\n",
    "    \n",
    "\n",
    "            \n",
    "            \n",
    "\n",
    "            # Add a title to the plot\n",
    "            forward_solver.plot_title = 'Modelling with IP effect'\n",
    "            forward_solver.track = True\n",
    "            # Run the forward modeller\n",
    "            forward_solver.run('MPA', legend=False)\n",
    "            # Save the results\n",
    "            forward_solver.savefig('./results/phimax/MPA_phimax_ice_{}_{}_{}.png'.format(i, j, k))"
   ]
  },
  {
   "cell_type": "markdown",
   "metadata": {},
   "source": [
    "You can also plot the same values in the pelton model:"
   ]
  },
  {
   "cell_type": "markdown",
   "metadata": {},
   "source": [
    "### Iterative Model creation using loops\n",
    "4 Models per parameter are created and always 4 models plotted onto the same figure. This makes changes visible and comparable. Additionally the used settings are written into a txt-file to keep precise parameters for all forward models (no guessing from the plots). The models and images have the same number as their index - see code below for detailed realization."
   ]
  },
  {
   "cell_type": "code",
   "execution_count": null,
   "metadata": {},
   "outputs": [],
   "source": [
    "forward_solver.clear_plot()\n",
    "forward_solver.track = True\n",
    "forward_solver.signal_limits = (10e-3, 10e-11)\n",
    "forward_solver.rhoa_limits = (0, 1000)\n",
    "\n",
    "# Thickness of each layer in meters\n",
    "thk = [15, 15, 15]\n",
    "\n",
    "# Direct current resistivity of each layer in Ohm meters\n",
    "rho_0 = [50, 500, 500]\n",
    "\n",
    "# Chargeability of each layer 0<=m<=1\n",
    "m = [0, 0.8, 0.0]\n",
    "\n",
    "# Relaxation time of each layer in seconds\n",
    "tau = [1e-6, 5e-4, 1e-5]\n",
    "\n",
    "# Dispersion coefficient of each layer 0<=c<=1\n",
    "c = [0.1, 0.9, 0.1]\n",
    "\n",
    "count = 1\n",
    "# Add the max phase angle model\n",
    "for c1 in np.linspace(0.1, 0.9, 4):\n",
    "    c[1] = c1\n",
    "    for t in np.logspace(-6, -3, 4):\n",
    "        tau[1] = t\n",
    "        for m1 in np.linspace(0.1, 1, 4):\n",
    "            forward_solver.clear_plot()\n",
    "            m[1] = m1\n",
    "            for r in np.linspace(50, 500, 4):\n",
    "                rho_0[1] = r\n",
    "                forward_solver.add_pelton_model(\n",
    "                                    thickness=thk, \n",
    "                                    resistivity=rho_0,\n",
    "                                    chargeability=m,\n",
    "                                    relaxation_time=tau,\n",
    "                                    dispersion_coefficient=c)\n",
    "\n",
    "                with open('results/pelton_middle_rho0.txt', 'a') as f:\n",
    "                    f.write('Model {}:\\n'.format(count))\n",
    "                    f.write('thickness: {}\\n'.format(thk))\n",
    "                    f.write('resistivity: {}\\n'.format(rho_0))\n",
    "                    f.write('chargeability: {}\\n'.format(m))\n",
    "                    f.write('relaxation time: {}\\n'.format(tau))\n",
    "                    f.write('dispersion coefficient: {}\\n \\n'.format(c))\n",
    "                    count += 1\n",
    "\n",
    "                forward_solver.run('Pelton')\n",
    "            forward_solver.savefig('./results/pelton_middle/change_rho0/pelton_Model_{}_{}_{}_{}_{}.png'.format(r, m1, t, c1, count))"
   ]
  },
  {
   "cell_type": "markdown",
   "metadata": {},
   "source": [
    "Just adding the model, running it and saving as png-file."
   ]
  },
  {
   "cell_type": "code",
   "execution_count": null,
   "metadata": {},
   "outputs": [],
   "source": [
    "forward_solver.add_pelton_model(\n",
    "                    thickness=thk, \n",
    "                    resistivity=rho_0,\n",
    "                    chargeability=m,\n",
    "                    relaxation_time=tau,\n",
    "                    dispersion_coefficient=c)\n",
    "forward_solver.run('Pelton')\n",
    "forward_solver.savefig('./results/pelton_Model.png') # change model name!!"
   ]
  },
  {
   "cell_type": "markdown",
   "metadata": {},
   "source": [
    "### Creating the corresponding resistivity model without IP effects"
   ]
  },
  {
   "cell_type": "code",
   "execution_count": null,
   "metadata": {},
   "outputs": [],
   "source": [
    "forward_solver.clear_plot()\n",
    "forward_solver.track = True\n",
    "for r in (50, 200, 350, 500):\n",
    "    rho_0[1] = r\n",
    "    forward_solver.add_resistivity_model(\n",
    "        thickness=thk, \n",
    "        resistivity=rho_0)\n",
    "    forward_solver.run('Resistivity')\n",
    "forward_solver.savefig('./results/pelton_middle/resistivity_{}.png'.format(rho_0[1]))"
   ]
  }
 ],
 "metadata": {
  "kernelspec": {
   "display_name": "general_gp",
   "language": "python",
   "name": "python3"
  },
  "language_info": {
   "codemirror_mode": {
    "name": "ipython",
    "version": 3
   },
   "file_extension": ".py",
   "mimetype": "text/x-python",
   "name": "python",
   "nbconvert_exporter": "python",
   "pygments_lexer": "ipython3",
   "version": "3.12.10"
  }
 },
 "nbformat": 4,
 "nbformat_minor": 4
}
